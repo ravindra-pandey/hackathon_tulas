{
 "cells": [
  {
   "cell_type": "code",
   "execution_count": 1,
   "metadata": {},
   "outputs": [],
   "source": [
    "import pandas as pd\n",
    "import numpy as np\n",
    "import pickle"
   ]
  },
  {
   "cell_type": "code",
   "execution_count": 2,
   "metadata": {},
   "outputs": [],
   "source": [
    "data=pd.read_csv(\"resume_transformed.csv\")"
   ]
  },
  {
   "cell_type": "code",
   "execution_count": 3,
   "metadata": {},
   "outputs": [
    {
     "data": {
      "text/html": [
       "<div>\n",
       "<style scoped>\n",
       "    .dataframe tbody tr th:only-of-type {\n",
       "        vertical-align: middle;\n",
       "    }\n",
       "\n",
       "    .dataframe tbody tr th {\n",
       "        vertical-align: top;\n",
       "    }\n",
       "\n",
       "    .dataframe thead th {\n",
       "        text-align: right;\n",
       "    }\n",
       "</style>\n",
       "<table border=\"1\" class=\"dataframe\">\n",
       "  <thead>\n",
       "    <tr style=\"text-align: right;\">\n",
       "      <th></th>\n",
       "      <th>ID</th>\n",
       "      <th>Resume_str</th>\n",
       "      <th>Resume_html</th>\n",
       "      <th>Category</th>\n",
       "      <th>trasnformed_text</th>\n",
       "    </tr>\n",
       "  </thead>\n",
       "  <tbody>\n",
       "    <tr>\n",
       "      <th>0</th>\n",
       "      <td>16852973</td>\n",
       "      <td>HR ADMINISTRATOR/MARKETING ASSOCIATE\\...</td>\n",
       "      <td>&lt;div class=\"fontsize fontface vmargins hmargin...</td>\n",
       "      <td>HR</td>\n",
       "      <td>hr administrator marketing associate hr admini...</td>\n",
       "    </tr>\n",
       "    <tr>\n",
       "      <th>1</th>\n",
       "      <td>22323967</td>\n",
       "      <td>HR SPECIALIST, US HR OPERATIONS      ...</td>\n",
       "      <td>&lt;div class=\"fontsize fontface vmargins hmargin...</td>\n",
       "      <td>HR</td>\n",
       "      <td>hr specialist u hr operation summary versatile...</td>\n",
       "    </tr>\n",
       "    <tr>\n",
       "      <th>2</th>\n",
       "      <td>33176873</td>\n",
       "      <td>HR DIRECTOR       Summary      Over 2...</td>\n",
       "      <td>&lt;div class=\"fontsize fontface vmargins hmargin...</td>\n",
       "      <td>HR</td>\n",
       "      <td>hr director summary 20 year experience recruit...</td>\n",
       "    </tr>\n",
       "    <tr>\n",
       "      <th>3</th>\n",
       "      <td>27018550</td>\n",
       "      <td>HR SPECIALIST       Summary    Dedica...</td>\n",
       "      <td>&lt;div class=\"fontsize fontface vmargins hmargin...</td>\n",
       "      <td>HR</td>\n",
       "      <td>hr specialist summary dedicated driven dynamic...</td>\n",
       "    </tr>\n",
       "    <tr>\n",
       "      <th>4</th>\n",
       "      <td>17812897</td>\n",
       "      <td>HR MANAGER         Skill Highlights  ...</td>\n",
       "      <td>&lt;div class=\"fontsize fontface vmargins hmargin...</td>\n",
       "      <td>HR</td>\n",
       "      <td>hr manager skill highlight hr skill hr departm...</td>\n",
       "    </tr>\n",
       "  </tbody>\n",
       "</table>\n",
       "</div>"
      ],
      "text/plain": [
       "         ID                                         Resume_str  \\\n",
       "0  16852973           HR ADMINISTRATOR/MARKETING ASSOCIATE\\...   \n",
       "1  22323967           HR SPECIALIST, US HR OPERATIONS      ...   \n",
       "2  33176873           HR DIRECTOR       Summary      Over 2...   \n",
       "3  27018550           HR SPECIALIST       Summary    Dedica...   \n",
       "4  17812897           HR MANAGER         Skill Highlights  ...   \n",
       "\n",
       "                                         Resume_html Category  \\\n",
       "0  <div class=\"fontsize fontface vmargins hmargin...       HR   \n",
       "1  <div class=\"fontsize fontface vmargins hmargin...       HR   \n",
       "2  <div class=\"fontsize fontface vmargins hmargin...       HR   \n",
       "3  <div class=\"fontsize fontface vmargins hmargin...       HR   \n",
       "4  <div class=\"fontsize fontface vmargins hmargin...       HR   \n",
       "\n",
       "                                    trasnformed_text  \n",
       "0  hr administrator marketing associate hr admini...  \n",
       "1  hr specialist u hr operation summary versatile...  \n",
       "2  hr director summary 20 year experience recruit...  \n",
       "3  hr specialist summary dedicated driven dynamic...  \n",
       "4  hr manager skill highlight hr skill hr departm...  "
      ]
     },
     "execution_count": 3,
     "metadata": {},
     "output_type": "execute_result"
    }
   ],
   "source": [
    "data.head()"
   ]
  },
  {
   "cell_type": "code",
   "execution_count": 4,
   "metadata": {},
   "outputs": [],
   "source": [
    "data=data.drop([\"ID\",\"Resume_str\",\"Resume_html\"],axis=1)"
   ]
  },
  {
   "cell_type": "code",
   "execution_count": 9,
   "metadata": {},
   "outputs": [],
   "source": [
    "categories=data[\"Category\"].unique()\n",
    "pickle.dump(tuple(categories),open(\"categories.pkl\", \"wb\"))"
   ]
  },
  {
   "cell_type": "code",
   "execution_count": 6,
   "metadata": {},
   "outputs": [
    {
     "data": {
      "text/plain": [
       "(2484, 2)"
      ]
     },
     "execution_count": 6,
     "metadata": {},
     "output_type": "execute_result"
    }
   ],
   "source": [
    "data.shape"
   ]
  },
  {
   "cell_type": "code",
   "execution_count": 7,
   "metadata": {},
   "outputs": [
    {
     "data": {
      "text/plain": [
       "Category            0\n",
       "trasnformed_text    1\n",
       "dtype: int64"
      ]
     },
     "execution_count": 7,
     "metadata": {},
     "output_type": "execute_result"
    }
   ],
   "source": [
    "data.isna().sum()"
   ]
  },
  {
   "cell_type": "code",
   "execution_count": 8,
   "metadata": {},
   "outputs": [],
   "source": [
    "data=data.dropna()"
   ]
  },
  {
   "cell_type": "code",
   "execution_count": 9,
   "metadata": {},
   "outputs": [
    {
     "data": {
      "text/plain": [
       "(2483, 2)"
      ]
     },
     "execution_count": 9,
     "metadata": {},
     "output_type": "execute_result"
    }
   ],
   "source": [
    "data.shape"
   ]
  },
  {
   "cell_type": "code",
   "execution_count": 10,
   "metadata": {},
   "outputs": [],
   "source": [
    "from sklearn.feature_extraction.text import TfidfVectorizer\n",
    "tfidf=TfidfVectorizer()"
   ]
  },
  {
   "cell_type": "code",
   "execution_count": 11,
   "metadata": {},
   "outputs": [],
   "source": [
    "X=tfidf.fit_transform(data[\"trasnformed_text\"]).toarray()"
   ]
  },
  {
   "cell_type": "code",
   "execution_count": 12,
   "metadata": {},
   "outputs": [
    {
     "data": {
      "text/plain": [
       "(2483, 36270)"
      ]
     },
     "execution_count": 12,
     "metadata": {},
     "output_type": "execute_result"
    }
   ],
   "source": [
    "X.shape"
   ]
  },
  {
   "cell_type": "code",
   "execution_count": 13,
   "metadata": {},
   "outputs": [],
   "source": [
    "X=X.reshape(X.shape[0],1,X.shape[1])"
   ]
  },
  {
   "cell_type": "code",
   "execution_count": 14,
   "metadata": {},
   "outputs": [],
   "source": [
    "# X.shape"
   ]
  },
  {
   "cell_type": "code",
   "execution_count": 15,
   "metadata": {},
   "outputs": [],
   "source": [
    "from sklearn.preprocessing import LabelEncoder\n",
    "encoder=LabelEncoder()"
   ]
  },
  {
   "cell_type": "code",
   "execution_count": 16,
   "metadata": {},
   "outputs": [],
   "source": [
    "y=encoder.fit_transform(data[\"Category\"])"
   ]
  },
  {
   "cell_type": "code",
   "execution_count": 17,
   "metadata": {},
   "outputs": [
    {
     "data": {
      "text/plain": [
       "array([19, 19, 19, ...,  6,  6,  6])"
      ]
     },
     "execution_count": 17,
     "metadata": {},
     "output_type": "execute_result"
    }
   ],
   "source": [
    "y"
   ]
  },
  {
   "cell_type": "code",
   "execution_count": 18,
   "metadata": {},
   "outputs": [],
   "source": [
    "from sklearn.model_selection import train_test_split"
   ]
  },
  {
   "cell_type": "code",
   "execution_count": 19,
   "metadata": {},
   "outputs": [],
   "source": [
    "X_train, X_test, y_train, y_test=train_test_split(X,y,random_state=42,test_size=0.2)"
   ]
  },
  {
   "cell_type": "code",
   "execution_count": 20,
   "metadata": {},
   "outputs": [],
   "source": [
    "del X,data"
   ]
  },
  {
   "attachments": {},
   "cell_type": "markdown",
   "metadata": {},
   "source": [
    "# Building the model"
   ]
  },
  {
   "cell_type": "code",
   "execution_count": 21,
   "metadata": {},
   "outputs": [],
   "source": [
    "import tensorflow as tf\n",
    "from tensorflow import keras \n"
   ]
  },
  {
   "cell_type": "code",
   "execution_count": 22,
   "metadata": {},
   "outputs": [],
   "source": [
    "gpu=tf.config.list_physical_devices(\"GPU\")\n",
    "if len(gpu)>0:\n",
    "    tf.config.experimental.set_memory_growth(gpu[0],True)\n"
   ]
  },
  {
   "cell_type": "code",
   "execution_count": 23,
   "metadata": {},
   "outputs": [
    {
     "name": "stdout",
     "output_type": "stream",
     "text": [
      "WARNING:tensorflow:Layer lstm will not use cuDNN kernels since it doesn't meet the criteria. It will use a generic GPU kernel as fallback when running on GPU.\n"
     ]
    }
   ],
   "source": [
    "model=keras.models.Sequential()\n",
    "model.add(keras.layers.LSTM(128,activation=\"relu\",return_sequences=True))\n",
    "model.add(keras.layers.Dropout(0.2))\n",
    "model.add(keras.layers.SimpleRNN(128,activation=\"relu\"))\n",
    "model.add(keras.layers.Dropout(0.2))\n",
    "model.add(keras.layers.Dense(128, activation=\"relu\"))\n",
    "model.add(keras.layers.Dropout(0.2))\n",
    "\n",
    "model.add(keras.layers.Dense(24,activation=\"softmax\"))\n",
    "\n",
    "model.compile(optimizer=tf.keras.optimizers.Adam(learning_rate=1e-3,decay=1e-5), loss=\"sparse_categorical_crossentropy\", metrics=[\"accuracy\"])\n"
   ]
  },
  {
   "cell_type": "code",
   "execution_count": 24,
   "metadata": {},
   "outputs": [
    {
     "name": "stdout",
     "output_type": "stream",
     "text": [
      "Epoch 1/25\n",
      "199/199 [==============================] - 7s 19ms/step - loss: 2.9210 - accuracy: 0.1551 - val_loss: 2.1817 - val_accuracy: 0.3783\n",
      "Epoch 2/25\n",
      "199/199 [==============================] - 3s 16ms/step - loss: 1.8056 - accuracy: 0.4809 - val_loss: 1.6027 - val_accuracy: 0.5392\n",
      "Epoch 3/25\n",
      "199/199 [==============================] - 3s 16ms/step - loss: 0.9503 - accuracy: 0.7266 - val_loss: 1.5639 - val_accuracy: 0.5915\n",
      "Epoch 4/25\n",
      "199/199 [==============================] - 3s 16ms/step - loss: 0.4287 - accuracy: 0.8842 - val_loss: 1.8168 - val_accuracy: 0.5674\n",
      "Epoch 5/25\n",
      "199/199 [==============================] - 3s 16ms/step - loss: 0.2123 - accuracy: 0.9441 - val_loss: 1.9519 - val_accuracy: 0.5755\n",
      "Epoch 6/25\n",
      "199/199 [==============================] - 3s 16ms/step - loss: 0.1009 - accuracy: 0.9753 - val_loss: 1.9389 - val_accuracy: 0.5976\n",
      "Epoch 7/25\n",
      "199/199 [==============================] - 3s 16ms/step - loss: 0.0620 - accuracy: 0.9839 - val_loss: 2.0230 - val_accuracy: 0.6217\n",
      "Epoch 8/25\n",
      "199/199 [==============================] - 3s 16ms/step - loss: 0.0516 - accuracy: 0.9869 - val_loss: 2.1419 - val_accuracy: 0.6076\n",
      "Epoch 9/25\n",
      "199/199 [==============================] - 3s 16ms/step - loss: 0.0335 - accuracy: 0.9935 - val_loss: 2.2317 - val_accuracy: 0.5996\n",
      "Epoch 10/25\n",
      "199/199 [==============================] - 3s 16ms/step - loss: 0.0276 - accuracy: 0.9904 - val_loss: 2.2075 - val_accuracy: 0.6117\n",
      "Epoch 11/25\n",
      "199/199 [==============================] - 3s 17ms/step - loss: 0.0230 - accuracy: 0.9955 - val_loss: 2.4725 - val_accuracy: 0.6036\n",
      "Epoch 12/25\n",
      "199/199 [==============================] - 3s 17ms/step - loss: 0.0116 - accuracy: 0.9980 - val_loss: 2.4291 - val_accuracy: 0.5996\n",
      "Epoch 13/25\n",
      "199/199 [==============================] - 3s 16ms/step - loss: 0.0292 - accuracy: 0.9889 - val_loss: 2.4689 - val_accuracy: 0.5996\n",
      "Epoch 14/25\n",
      "199/199 [==============================] - 3s 16ms/step - loss: 0.0251 - accuracy: 0.9930 - val_loss: 2.5549 - val_accuracy: 0.5996\n",
      "Epoch 15/25\n",
      "199/199 [==============================] - 3s 16ms/step - loss: 0.0161 - accuracy: 0.9955 - val_loss: 2.6018 - val_accuracy: 0.5976\n",
      "Epoch 16/25\n",
      "199/199 [==============================] - 3s 16ms/step - loss: 0.0143 - accuracy: 0.9960 - val_loss: 2.6618 - val_accuracy: 0.6016\n",
      "Epoch 17/25\n",
      "199/199 [==============================] - 3s 16ms/step - loss: 0.0095 - accuracy: 0.9975 - val_loss: 2.5239 - val_accuracy: 0.6197\n",
      "Epoch 18/25\n",
      "199/199 [==============================] - 3s 17ms/step - loss: 0.0133 - accuracy: 0.9950 - val_loss: 2.6606 - val_accuracy: 0.5915\n",
      "Epoch 19/25\n",
      "199/199 [==============================] - 3s 16ms/step - loss: 0.0081 - accuracy: 0.9985 - val_loss: 2.7086 - val_accuracy: 0.5976\n",
      "Epoch 20/25\n",
      "199/199 [==============================] - 3s 16ms/step - loss: 0.0047 - accuracy: 0.9995 - val_loss: 2.6133 - val_accuracy: 0.6036\n",
      "Epoch 21/25\n",
      "199/199 [==============================] - 3s 18ms/step - loss: 0.0040 - accuracy: 0.9990 - val_loss: 2.7721 - val_accuracy: 0.5936\n",
      "Epoch 22/25\n",
      "199/199 [==============================] - 4s 18ms/step - loss: 0.0110 - accuracy: 0.9950 - val_loss: 3.9118 - val_accuracy: 0.5131\n",
      "Epoch 23/25\n",
      "199/199 [==============================] - 3s 16ms/step - loss: 0.0277 - accuracy: 0.9894 - val_loss: 2.5698 - val_accuracy: 0.6117\n",
      "Epoch 24/25\n",
      "199/199 [==============================] - 3s 16ms/step - loss: 0.0136 - accuracy: 0.9955 - val_loss: 2.6788 - val_accuracy: 0.5936\n",
      "Epoch 25/25\n",
      "199/199 [==============================] - 3s 17ms/step - loss: 0.0062 - accuracy: 0.9985 - val_loss: 2.7529 - val_accuracy: 0.6056\n"
     ]
    },
    {
     "data": {
      "text/plain": [
       "<keras.callbacks.History at 0x21c9e4b7ee0>"
      ]
     },
     "execution_count": 24,
     "metadata": {},
     "output_type": "execute_result"
    }
   ],
   "source": [
    "model.fit(X_train, y_train,epochs=25,batch_size=10,validation_data=(X_test, y_test))"
   ]
  },
  {
   "cell_type": "code",
   "execution_count": 25,
   "metadata": {},
   "outputs": [],
   "source": [
    "y_pred=model.predict(X_test)"
   ]
  },
  {
   "cell_type": "code",
   "execution_count": 31,
   "metadata": {},
   "outputs": [],
   "source": [
    "import pickle"
   ]
  },
  {
   "cell_type": "code",
   "execution_count": 33,
   "metadata": {},
   "outputs": [],
   "source": [
    "model.save(\"model.h5\")\n",
    "pickle.dump(tfidf,open(\"tfidf.pkl\", \"wb\"))\n",
    "pickle.dump(encoder,open(\"encoder.pkl\", \"wb\"))"
   ]
  },
  {
   "cell_type": "code",
   "execution_count": 2,
   "metadata": {},
   "outputs": [],
   "source": [
    "import numpy as np\n",
    "arr = np.arange(20)\n",
    "arr = arr.reshape(int(arr.shape[0]/5), 5)\n",
    "b = np.amax(arr, axis=1)"
   ]
  },
  {
   "cell_type": "code",
   "execution_count": 3,
   "metadata": {},
   "outputs": [
    {
     "data": {
      "text/plain": [
       "array([ 4,  9, 14, 19])"
      ]
     },
     "execution_count": 3,
     "metadata": {},
     "output_type": "execute_result"
    }
   ],
   "source": [
    "b"
   ]
  },
  {
   "cell_type": "code",
   "execution_count": 10,
   "metadata": {},
   "outputs": [
    {
     "name": "stdout",
     "output_type": "stream",
     "text": [
      "4\n",
      "3\n",
      "4\n",
      "3\n",
      "4\n",
      "3\n",
      "4\n",
      "3\n"
     ]
    }
   ],
   "source": [
    "for i in arr:\n",
    "    \n",
    "    for id in sorted(i,reverse=True)[:2]:\n",
    "        \n",
    "        print(list(i).index(id))\n",
    "    "
   ]
  },
  {
   "cell_type": "code",
   "execution_count": null,
   "metadata": {},
   "outputs": [],
   "source": []
  }
 ],
 "metadata": {
  "kernelspec": {
   "display_name": "Python 3",
   "language": "python",
   "name": "python3"
  },
  "language_info": {
   "codemirror_mode": {
    "name": "ipython",
    "version": 3
   },
   "file_extension": ".py",
   "mimetype": "text/x-python",
   "name": "python",
   "nbconvert_exporter": "python",
   "pygments_lexer": "ipython3",
   "version": "3.10.2"
  },
  "orig_nbformat": 4
 },
 "nbformat": 4,
 "nbformat_minor": 2
}
